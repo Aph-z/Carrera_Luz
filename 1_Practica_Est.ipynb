{
 "cells": [
  {
   "cell_type": "code",
   "execution_count": 2,
   "id": "ba98a7c3-6986-48f8-aedd-4cbc0c398847",
   "metadata": {
    "collapsed": true,
    "jupyter": {
     "outputs_hidden": true
    }
   },
   "outputs": [
    {
     "name": "stderr",
     "output_type": "stream",
     "text": [
      "Cargando paquete requerido: cubature\n",
      "\n",
      "Cargando paquete requerido: dplyr\n",
      "\n",
      "\n",
      "Adjuntando el paquete: 'dplyr'\n",
      "\n",
      "\n",
      "The following objects are masked from 'package:stats':\n",
      "\n",
      "    filter, lag\n",
      "\n",
      "\n",
      "The following objects are masked from 'package:base':\n",
      "\n",
      "    intersect, setdiff, setequal, union\n",
      "\n",
      "\n",
      "Cargando paquete requerido: flextable\n",
      "\n",
      "Cargando paquete requerido: ggplot2\n",
      "\n",
      "Cargando paquete requerido: lmtest\n",
      "\n",
      "Cargando paquete requerido: zoo\n",
      "\n",
      "\n",
      "Adjuntando el paquete: 'zoo'\n",
      "\n",
      "\n",
      "The following objects are masked from 'package:base':\n",
      "\n",
      "    as.Date, as.Date.numeric\n",
      "\n",
      "\n",
      "Cargando paquete requerido: MASS\n",
      "\n",
      "\n",
      "Adjuntando el paquete: 'MASS'\n",
      "\n",
      "\n",
      "The following object is masked from 'package:dplyr':\n",
      "\n",
      "    select\n",
      "\n",
      "\n",
      "Cargando paquete requerido: psych\n",
      "\n",
      "\n",
      "Adjuntando el paquete: 'psych'\n",
      "\n",
      "\n",
      "The following objects are masked from 'package:ggplot2':\n",
      "\n",
      "    %+%, alpha\n",
      "\n",
      "\n",
      "Cargando paquete requerido: summarytools\n",
      "\n",
      "Cargando paquete requerido: randtests\n",
      "\n",
      "Cargando paquete requerido: rapportools\n",
      "\n",
      "\n",
      "Adjuntando el paquete: 'rapportools'\n",
      "\n",
      "\n",
      "The following objects are masked from 'package:summarytools':\n",
      "\n",
      "    label, label<-\n",
      "\n",
      "\n",
      "The following object is masked from 'package:dplyr':\n",
      "\n",
      "    n\n",
      "\n",
      "\n",
      "The following objects are masked from 'package:stats':\n",
      "\n",
      "    IQR, median, sd, var\n",
      "\n",
      "\n",
      "The following objects are masked from 'package:base':\n",
      "\n",
      "    max, mean, min, range, sum\n",
      "\n",
      "\n"
     ]
    }
   ],
   "source": [
    "library(paqueteMETODOS)\n",
    "data(\"CarreraLuz22\")"
   ]
  },
  {
   "cell_type": "code",
   "execution_count": null,
   "id": "599d52d7-7fb9-4880-bd9a-125e120888b5",
   "metadata": {},
   "outputs": [],
   "source": []
  }
 ],
 "metadata": {
  "kernelspec": {
   "display_name": "R [conda env:base] *",
   "language": "R",
   "name": "conda-base-r"
  },
  "language_info": {
   "codemirror_mode": "r",
   "file_extension": ".r",
   "mimetype": "text/x-r-source",
   "name": "R",
   "pygments_lexer": "r",
   "version": "4.4.3"
  }
 },
 "nbformat": 4,
 "nbformat_minor": 5
}
